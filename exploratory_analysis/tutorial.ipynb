{
 "cells": [
  {
   "cell_type": "code",
   "execution_count": 1,
   "metadata": {},
   "outputs": [],
   "source": [
    "from ase.io import read\n",
    "import pandas as pd\n",
    "import numpy as np\n",
    "from sklearn.cluster import KMeans\n",
    "from sklearn.decomposition import PCA\n",
    "from matplotlib import colors\n",
    "import matplotlib.pyplot as plt"
   ]
  },
  {
   "cell_type": "code",
   "execution_count": 2,
   "metadata": {
    "scrolled": true
   },
   "outputs": [],
   "source": [
    "# load data\n",
    "RS_structures = read(\"data/RS_structures.xyz\", index=':')\n",
    "ZB_structures = read(\"data/ZB_structures.xyz\", index=':')\n",
    "\n",
    "def generate_table(RS_structures, ZB_structures):\n",
    "\n",
    "    for RS, ZB in zip(RS_structures, ZB_structures):\n",
    "        energy_diff = RS.info['energy'] - ZB.info['energy']\n",
    "        min_struc_type = 'RS' if energy_diff < 0 else 'ZB'\n",
    "        struc_obj_min = RS if energy_diff < 0 else ZB\n",
    "\n",
    "        yield [RS.info['energy'], ZB.info['energy'],\n",
    "               energy_diff, min_struc_type,\n",
    "               RS.info['Z'], ZB.info['Z'],\n",
    "               RS.info['period'], ZB.info['period'],\n",
    "               RS.info['IP'], ZB.info['IP'],\n",
    "               RS.info['EA'], ZB.info['EA'],\n",
    "               RS.info['E_HOMO'], ZB.info['E_HOMO'],\n",
    "               RS.info['E_LUMO'], ZB.info['E_LUMO'],\n",
    "               RS.info['r_s'], ZB.info['r_s'],\n",
    "               RS.info['r_p'], ZB.info['r_p'],\n",
    "               RS.info['r_d'], ZB.info['r_d'],\n",
    "               RS, ZB, struc_obj_min]\n",
    "        \n",
    "    \n",
    "df = pd.DataFrame(\n",
    "    generate_table(RS_structures, ZB_structures),\n",
    "    columns=['energy_RS', 'energy_ZB', \n",
    "             'energy_diff', 'min_struc_type', \n",
    "             'Z(A)', 'Z(B)', \n",
    "             'period(A)', 'period(B)', \n",
    "             'IP(A)', 'IP(B)', \n",
    "             'EA(A)', 'EA(B)', \n",
    "             'E_HOMO(A)', 'E_HOMO(B)', \n",
    "             'E_LUMO(A)', 'E_LUMO(B)', \n",
    "             'r_s(A)', 'r_s(B)', \n",
    "             'r_p(A)', 'r_p(B)', \n",
    "             'r_d(A)', 'r_d(B)',\n",
    "             'struc_obj_RS', 'struc_obj_ZB', 'struc_obj_min'],\n",
    "    index=list(RS.get_chemical_formula() for RS in RS_structures)\n",
    ")\n",
    "\n",
    "# print data without structure objects\n",
    "# df.drop(['struc_obj_RS', 'struc_obj_ZB', 'struc_obj_min'], axis=1)"
   ]
  },
  {
   "cell_type": "code",
   "execution_count": 3,
   "metadata": {},
   "outputs": [],
   "source": [
    "features = []\n",
    "# features.append('energy_diff')\n",
    "features.append('energy_RS')\n",
    "features.append('energy_ZB')\n",
    "# features.append('Z(A)')\n",
    "# features.append('Z(B)')\n",
    "# features.append('IP(A)')\n",
    "# features.append('IP(B)')\n",
    "# features.append('EA(A)')\n",
    "# features.append('EA(B)')\n",
    "# features.append('E_HOMO(A)')\n",
    "# features.append('E_HOMO(B)')\n",
    "# features.append('E_LUMO(A)')\n",
    "# features.append('E_LUMO(B)')\n",
    "features.append('r_s(A)')\n",
    "features.append('r_s(B)')\n",
    "features.append('r_p(A)')\n",
    "features.append('r_p(B)')\n",
    "features.append('r_d(A)')\n",
    "features.append('r_d(B)')\n",
    "            "
   ]
  },
  {
   "cell_type": "code",
   "execution_count": 4,
   "metadata": {},
   "outputs": [],
   "source": [
    "data=df.filter(items=features).to_numpy()"
   ]
  },
  {
   "cell_type": "code",
   "execution_count": 5,
   "metadata": {},
   "outputs": [],
   "source": [
    "kmeans = KMeans (n_clusters=3).fit(data)\n",
    "cluster_labels  = kmeans.labels_"
   ]
  },
  {
   "cell_type": "code",
   "execution_count": 6,
   "metadata": {},
   "outputs": [],
   "source": [
    "# df.insert(0,'cluster_label',kmeans.labels_)\n",
    "# df.drop(['struc_obj_RS', 'struc_obj_ZB', 'struc_obj_min'], axis=1)"
   ]
  },
  {
   "cell_type": "code",
   "execution_count": 7,
   "metadata": {
    "scrolled": true
   },
   "outputs": [],
   "source": [
    "pca = PCA(n_components=2)\n",
    "transformed_data = pca.fit_transform(data)"
   ]
  },
  {
   "cell_type": "code",
   "execution_count": 8,
   "metadata": {
    "scrolled": true
   },
   "outputs": [
    {
     "data": {
      "text/plain": [
       "<matplotlib.collections.PathCollection at 0x7fccc914bcd0>"
      ]
     },
     "execution_count": 8,
     "metadata": {},
     "output_type": "execute_result"
    },
    {
     "data": {
      "image/png": "[encoded data removed]",
      "text/plain": [
       "<Figure size 432x288 with 1 Axes>"
      ]
     },
     "metadata": {
      "needs_background": "light"
     },
     "output_type": "display_data"
    }
   ],
   "source": [
    "cmap = colors.ListedColormap(['k','b','y','g','r'])\n",
    "X,Y = transformed_data.T\n",
    "plt.scatter(X,Y,color=cmap(cluster_labels))"
   ]
  }
 ],
 "metadata": {
  "kernelspec": {
   "display_name": "Python 3",
   "language": "python",
   "name": "python3"
  },
  "language_info": {
   "codemirror_mode": {
    "name": "ipython",
    "version": 3
   },
   "file_extension": ".py",
   "mimetype": "text/x-python",
   "name": "python",
   "nbconvert_exporter": "python",
   "pygments_lexer": "ipython3",
   "version": "3.8.2"
  }
 },
 "nbformat": 4,
 "nbformat_minor": 4
}
